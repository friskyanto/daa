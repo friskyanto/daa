{
 "cells": [
  {
   "cell_type": "markdown",
   "metadata": {},
   "source": [
    "## 1. Algoritma Dynamic Deret Fibonacci\n",
    "## A. Fibonacci dengan while\n",
    "# Algoritma Dynamic\n",
    "## Penerapan Algoritma Dynamic dengan Fibonacci"
   ]
  },
  {
   "cell_type": "code",
   "execution_count": 11,
   "metadata": {},
   "outputs": [
    {
     "name": "stdout",
     "output_type": "stream",
     "text": [
      "How Manny Terms? 20\n",
      "Fibonacci sequence: \n",
      "0\n",
      "1\n",
      "1\n",
      "2\n",
      "3\n",
      "5\n",
      "8\n",
      "13\n",
      "21\n",
      "34\n",
      "55\n",
      "89\n",
      "144\n",
      "233\n",
      "377\n",
      "610\n",
      "987\n",
      "1597\n",
      "2584\n",
      "4181\n"
     ]
    }
   ],
   "source": [
    "# Fibonacci dengan while\n",
    "nterms = int(input(\"How Manny Terms? \"))\n",
    "n1, n2 = 0, 1\n",
    "count = 0\n",
    "\n",
    "if nterms <= 0:\n",
    "    print(\"Please enter a positive integer\")\n",
    "elif nterms == 1:\n",
    "    print(\"Fibonacci sequence upto\", nterms,\":\")\n",
    "    print(n1)\n",
    "else:\n",
    "    print(\"Fibonacci sequence: \")\n",
    "    while count < nterms:\n",
    "        print(n1)\n",
    "        nth = n1+n2\n",
    "        # update nilai\n",
    "        n1 = n2\n",
    "        n2 = nth\n",
    "        count += 1"
   ]
  },
  {
   "cell_type": "markdown",
   "metadata": {},
   "source": [
    "## B. Fibonacci dengan rekursi"
   ]
  },
  {
   "cell_type": "code",
   "execution_count": 12,
   "metadata": {},
   "outputs": [
    {
     "name": "stdout",
     "output_type": "stream",
     "text": [
      "Fibonacci sequence: \n",
      "0\n",
      "1\n",
      "1\n",
      "2\n",
      "3\n",
      "5\n",
      "8\n",
      "13\n",
      "21\n",
      "34\n",
      "55\n",
      "89\n",
      "144\n",
      "233\n",
      "377\n",
      "610\n",
      "987\n",
      "1597\n",
      "2584\n",
      "4181\n"
     ]
    }
   ],
   "source": [
    "#Fibonacci dengan rekursi\n",
    "\n",
    "def recur_fibo(n):\n",
    "    if n <= 1:\n",
    "        return n\n",
    "    else:\n",
    "        return(recur_fibo(n-1) + recur_fibo(n-2))\n",
    "    \n",
    "nterms = 20\n",
    "\n",
    "# cek apakah nilai nterms valid\n",
    "if nterms <= 0:\n",
    "    print(\"Please enter a positive integer\")\n",
    "else:\n",
    "    print(\"Fibonacci sequence: \")\n",
    "    for i in range(nterms):\n",
    "        print(recur_fibo(i))"
   ]
  },
  {
   "cell_type": "markdown",
   "metadata": {},
   "source": [
    "## 2. Algoritma Greedy: Traveling Salesman Problem (TSP)"
   ]
  },
  {
   "cell_type": "code",
   "execution_count": 27,
   "metadata": {},
   "outputs": [],
   "source": [
    "import random\n",
    "from itertools import permutations\n",
    "alltours = permutations\n",
    "\n",
    "def distance_tour(aTour):\n",
    "    return sum(distance_points(aTour[i - 1], aTour[i])\n",
    "        for i in range(len(aTour)))\n",
    "\n",
    "aCity = complex\n",
    "\n",
    "def distance_points(first, second):\n",
    "    return abs(first - second)\n",
    "\n",
    "def generate_cities (number_of_cities):\n",
    "    seed=111;width=500;height=300\n",
    "    random.seed((number_of_cities, seed))\n",
    "    return frozenset(aCity(random.randint(1, width), random.randint(1,height))\n",
    "        for c in range(number_of_cities))"
   ]
  },
  {
   "cell_type": "code",
   "execution_count": 28,
   "metadata": {},
   "outputs": [],
   "source": [
    "%matplotlib inline\n",
    "import matplotlib.pyplot as plt\n",
    "\n",
    "def visualize_tour(tour, style='bo-'):\n",
    "    if len(tour) > 1000: plt.figure(figsize=(15, 10))\n",
    "    start = tour[0:1]\n",
    "    visualize_segment(tour + start, style)\n",
    "    visualize_segment(start, 'rD')\n",
    "def visualize_segment (segment, style='bo-'):\n",
    "        plt.plot([X(c) for c in segment], [Y(c) for c in segment], style, clip_on=False)\n",
    "        plt.axis('scaled')\n",
    "        plt.axis('off')\n",
    "    \n",
    "def X(city): \"X axis\"; return city.real\n",
    "\n",
    "def Y(city): \"Y axis\"; return city.imag"
   ]
  },
  {
   "cell_type": "code",
   "execution_count": 38,
   "metadata": {},
   "outputs": [],
   "source": [
    "from time import process_time\n",
    "from collections import Counter\n",
    "def tsp(algorithm, cities):\n",
    "    t0 = process_time()\n",
    "    tour = algorithm(cities)\n",
    "    t1 = process_time()\n",
    "    assert Counter(tour) == Counter(cities)\n",
    "    visualize_tour(tour)\n",
    "    print(\"{}:{} cities => tour length {:.0f}(in {:.3f} sec)\".format(name(algorithm), len(tour), distance_tour(tour), t1-t0))\n",
    "    \n",
    "    \n",
    "def name(algorithm): return algorithm.__name__.replace('_tsp','')"
   ]
  },
  {
   "cell_type": "code",
   "execution_count": 40,
   "metadata": {},
   "outputs": [],
   "source": [
    "def greedy_algorithm(cities, start=None):\n",
    "    C = start or first(cities)\n",
    "    tour = [C]\n",
    "    unvisited = set(cities - {C})\n",
    "    while unvisited:\n",
    "        C = nearest_neighbor(C, unvisited)\n",
    "        tour.append(C)\n",
    "        unvisited.remove(C)\n",
    "    return tour\n",
    "\n",
    "def first(collection): return next(iter(collection))\n",
    "\n",
    "def nearest_nighbor(A, cities):\n",
    "    return min(cities, key=lambda C: distance_points(C, A))"
   ]
  },
  {
   "cell_type": "code",
   "execution_count": null,
   "metadata": {},
   "outputs": [],
   "source": [
    "tsp(greedy_algorithm, generate_cities(10))"
   ]
  },
  {
   "cell_type": "markdown",
   "metadata": {},
   "source": [
    "# 3. Algoritma Greedy: Huffman Coding"
   ]
  },
  {
   "cell_type": "code",
   "execution_count": 19,
   "metadata": {},
   "outputs": [],
   "source": [
    "string = 'BCAADDDCCACACAC'\n",
    "\n",
    "# Creating tree nodes\n",
    "class NodeTree(object):\n",
    "    \n",
    "    def __init__(self, left=None, right=None):\n",
    "        self.left = left\n",
    "        self.right = right\n",
    "        \n",
    "    def children(self):\n",
    "        return (self.left, self.right)\n",
    "    \n",
    "    def nodes(self):\n",
    "        return (self.left, self.right)\n",
    "    \n",
    "    def __str__(self):\n",
    "        return '%s_%s' % (self.left, self.right)"
   ]
  },
  {
   "cell_type": "code",
   "execution_count": 20,
   "metadata": {},
   "outputs": [],
   "source": [
    "# main function implementing huffman coding\n",
    "def huffman_code_tree(node, left=True, binString=''):\n",
    "    if type(node) is str:\n",
    "        return {node: binString}\n",
    "    (l, r) = node.children()\n",
    "    d = dict()\n",
    "    d.update(huffman_code_tree(l, True, binString + '0'))\n",
    "    d.update(huffman_code_tree(r, False, binString + '1'))\n",
    "    return d"
   ]
  },
  {
   "cell_type": "code",
   "execution_count": 21,
   "metadata": {},
   "outputs": [
    {
     "name": "stdout",
     "output_type": "stream",
     "text": [
      " Char | Huffman code \n",
      "----------------------\n",
      " 'C'  |           0\n",
      " 'A'  |          11\n",
      " 'D'  |         101\n",
      " 'B'  |         100\n"
     ]
    }
   ],
   "source": [
    "# Calculating frequency\n",
    "freq = {}\n",
    "for c in string:\n",
    "    if c in freq:\n",
    "        freq[c] += 1\n",
    "    else:\n",
    "        freq[c] = 1\n",
    "        \n",
    "freq = sorted(freq.items(), key=lambda x: x[1], reverse=True)\n",
    "\n",
    "nodes = freq\n",
    "\n",
    "while len(nodes) > 1:\n",
    "    (key1, c1) = nodes[-1]\n",
    "    (key2, c2) = nodes[-2]\n",
    "    nodes = nodes[:-2]\n",
    "    node = NodeTree(key1, key2)\n",
    "    nodes.append((node, c1 + c2))\n",
    "    \n",
    "    nodes = sorted(nodes, key=lambda x: x[1], reverse=True)\n",
    "    \n",
    "huffmanCode = huffman_code_tree(nodes[0][0])\n",
    "\n",
    "print(' Char | Huffman code ')\n",
    "print('----------------------')\n",
    "for (char, frequency) in freq:\n",
    "    print(' %-4r |%12s' % (char, huffmanCode[char]))"
   ]
  },
  {
   "cell_type": "code",
   "execution_count": null,
   "metadata": {},
   "outputs": [],
   "source": []
  }
 ],
 "metadata": {
  "kernelspec": {
   "display_name": "Python 3",
   "language": "python",
   "name": "python3"
  },
  "language_info": {
   "codemirror_mode": {
    "name": "ipython",
    "version": 3
   },
   "file_extension": ".py",
   "mimetype": "text/x-python",
   "name": "python",
   "nbconvert_exporter": "python",
   "pygments_lexer": "ipython3",
   "version": "3.8.3"
  }
 },
 "nbformat": 4,
 "nbformat_minor": 4
}
